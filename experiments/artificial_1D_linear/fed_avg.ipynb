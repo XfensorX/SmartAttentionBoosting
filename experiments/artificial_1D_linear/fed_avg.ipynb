{
 "cells": [
  {
   "cell_type": "markdown",
   "metadata": {},
   "source": [
    "# 2. Federated Averaging (FedAvg)"
   ]
  },
  {
   "cell_type": "code",
   "execution_count": null,
   "metadata": {},
   "outputs": [],
   "source": [
    "import torch\n",
    "from torch.utils.tensorboard import SummaryWriter\n",
    "\n",
    "from data import artificial_1D_linear as data\n",
    "from experiments.artificial_1D_linear.documentation import (\n",
    "    evaluate,\n",
    "    plot_data_split,\n",
    "    plot_predictions,\n",
    ")\n",
    "from models import DenseNetwork\n",
    "from utils.federated_learning import average_models\n",
    "\n",
    "from experiments.artificial_1D_linear.smart_fed_avg_util import register_client_test_losses\n",
    "from utils.general import get_logging_dir"
   ]
  },
  {
   "cell_type": "markdown",
   "metadata": {},
   "source": [
    "### Hyperparemeters"
   ]
  },
  {
   "cell_type": "code",
   "execution_count": null,
   "metadata": {},
   "outputs": [],
   "source": [
    "BATCH_SIZE = 64\n",
    "\n",
    "INPUT_FEATURES = 1\n",
    "OUTPUT_FEATURES = 1\n",
    "ARCHITECTURE = [12, 12, 12, 12]\n",
    "\n",
    "LOSS_FN = torch.nn.MSELoss()\n",
    "\n",
    "#### Parameters for the FedAvg\n",
    "\n",
    "NUM_CLIENTS = 10\n",
    "CLIENT_IDs = range(NUM_CLIENTS)\n",
    "SPLIT_TYPE = \"interval\" # of the dataset\n",
    "COMMUNICATION_ROUNDS = 20\n",
    "CLIENT_EPOCHS = 150"
   ]
  },
  {
   "cell_type": "markdown",
   "metadata": {},
   "source": [
    "### Model definitions"
   ]
  },
  {
   "cell_type": "code",
   "execution_count": null,
   "metadata": {},
   "outputs": [],
   "source": [
    "model_name = f\"FedAvg_{NUM_CLIENTS}clients_{SPLIT_TYPE}-split\"\n",
    "\n",
    "\n",
    "writer = SummaryWriter(get_logging_dir(model_name, \"artificial_1D_linear\"))\n",
    "\n",
    "\n",
    "client_train_dataloaders = data.get_client_train_dataloaders(\n",
    "    NUM_CLIENTS, SPLIT_TYPE, BATCH_SIZE, shuffle=True\n",
    ")\n",
    "\n",
    "plot_data_split(client_train_dataloaders, writer)\n",
    "\n",
    "\n",
    "clients = [\n",
    "    DenseNetwork(DenseNetwork.Config(INPUT_FEATURES, ARCHITECTURE, OUTPUT_FEATURES))\n",
    "    for _ in CLIENT_IDs\n",
    "]\n",
    "\n",
    "client_optimizers = [\n",
    "    torch.optim.Adam(clients[client_no].parameters(), lr=0.001)\n",
    "    for client_no in CLIENT_IDs\n",
    "]"
   ]
  },
  {
   "cell_type": "markdown",
   "metadata": {},
   "source": [
    "### Training"
   ]
  },
  {
   "cell_type": "code",
   "execution_count": null,
   "metadata": {},
   "outputs": [],
   "source": [
    "for cr in range(COMMUNICATION_ROUNDS):\n",
    "    for client_no, client in zip(CLIENT_IDs, clients):\n",
    "        client.train()\n",
    "\n",
    "        for ce in range(CLIENT_EPOCHS):\n",
    "            losses = []\n",
    "            for x, y in client_train_dataloaders[client_no]:\n",
    "                client_optimizers[client_no].zero_grad()\n",
    "                y_hat = client(x)\n",
    "                loss = LOSS_FN(y_hat, y)\n",
    "                loss.backward()\n",
    "                client_optimizers[client_no].step()\n",
    "                losses.append(loss.item())\n",
    "\n",
    "            writer.add_scalar(\n",
    "                f\"loss/client{client_no}\",\n",
    "                sum(losses) / len(losses),\n",
    "                cr * CLIENT_EPOCHS + ce,\n",
    "            )\n",
    "\n",
    "    register_client_test_losses(\n",
    "        clients=clients, client_ids=CLIENT_IDs, writer=writer, communication_round=cr\n",
    "    )\n",
    "\n",
    "\n",
    "    global_model = average_models(clients)\n",
    "    writer.add_scalar(\"test_loss\", evaluate(global_model), cr * CLIENT_EPOCHS)\n",
    "\n",
    "    for client in clients:\n",
    "        client.load_state_dict(global_model.state_dict())\n",
    "\n",
    "    plot_predictions(global_model, model_name, writer, epoch=cr)\n",
    "writer.add_hparams(\n",
    "    {\n",
    "        \"client_epochs\": CLIENT_EPOCHS,\n",
    "        \"num_clients\": NUM_CLIENTS,\n",
    "        \"communication_rounds\": COMMUNICATION_ROUNDS,\n",
    "        \"split_type\": SPLIT_TYPE,\n",
    "        \"architecture\": str(ARCHITECTURE)\n",
    "    },\n",
    "    {\n",
    "        \"MSE Test\": evaluate(global_model),\n",
    "    },\n",
    "    run_name=\".\",\n",
    ")\n",
    "writer.close()"
   ]
  }
 ],
 "metadata": {
  "kernelspec": {
   "display_name": ".venv",
   "language": "python",
   "name": "python3"
  },
  "language_info": {
   "codemirror_mode": {
    "name": "ipython",
    "version": 3
   },
   "file_extension": ".py",
   "mimetype": "text/x-python",
   "name": "python",
   "nbconvert_exporter": "python",
   "pygments_lexer": "ipython3",
   "version": "3.10.16"
  }
 },
 "nbformat": 4,
 "nbformat_minor": 2
}
