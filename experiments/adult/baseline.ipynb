{
 "cells": [
  {
   "cell_type": "code",
   "execution_count": 3,
   "metadata": {},
   "outputs": [],
   "source": [
    "from utils.general import get_logging_dir\n",
    "import torch\n",
    "import utils\n",
    "import models\n",
    "\n",
    "from torch.utils.tensorboard import SummaryWriter\n",
    "\n",
    "\n",
    "from utils.general import get_logging_dir\n",
    "import utils"
   ]
  },
  {
   "cell_type": "code",
   "execution_count": null,
   "metadata": {},
   "outputs": [],
   "source": [
    "import data.adult.data\n",
    "\n",
    "\n",
    "X_raw, Y = data.adult.data.get_data(\"train\")\n",
    "X_test, Y_test = data.adult.data.get_data(\"test\")\n",
    "\n",
    "scaler = utils.data.StandardScaler()\n",
    "scaler.fit(X_raw)\n",
    "\n",
    "dataset = torch.utils.data.TensorDataset(scaler.transform(X_raw), Y)\n",
    "dataloader = torch.utils.data.DataLoader(dataset, batch_size=128, shuffle=True)\n",
    "\n",
    "test_dataset = torch.utils.data.TensorDataset(scaler.transform(X_test), Y_test)\n",
    "test_dataloader = torch.utils.data.DataLoader(test_dataset, batch_size=128)"
   ]
  },
  {
   "cell_type": "code",
   "execution_count": 5,
   "metadata": {},
   "outputs": [],
   "source": [
    "writer0 = SummaryWriter(get_logging_dir(\"constant0\", \"adult\"))\n",
    "writer1 = SummaryWriter(get_logging_dir(\"constant1\", \"adult\"))\n",
    "\n",
    "metrics0 = utils.evaluation.evaluate(models.Constant(1, out_dim=(1,)), test_dataloader)\n",
    "\n",
    "writer0.add_hparams({}, dict(metrics0), run_name=\".\")\n",
    "writer0.flush()\n",
    "writer0.close()\n",
    "\n",
    "metrics1 = utils.evaluation.evaluate(models.Constant(0, out_dim=(1,)), test_dataloader)\n",
    "\n",
    "writer1.add_hparams({}, dict(metrics1), run_name=\".\")\n",
    "writer1.flush()\n",
    "writer1.close()"
   ]
  }
 ],
 "metadata": {
  "kernelspec": {
   "display_name": ".venv",
   "language": "python",
   "name": "python3"
  },
  "language_info": {
   "codemirror_mode": {
    "name": "ipython",
    "version": 3
   },
   "file_extension": ".py",
   "mimetype": "text/x-python",
   "name": "python",
   "nbconvert_exporter": "python",
   "pygments_lexer": "ipython3",
   "version": "3.10.16"
  }
 },
 "nbformat": 4,
 "nbformat_minor": 2
}
