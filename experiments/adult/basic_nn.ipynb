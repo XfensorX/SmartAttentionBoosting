{
 "cells": [
  {
   "cell_type": "code",
   "execution_count": null,
   "metadata": {},
   "outputs": [],
   "source": [
    "from utils.general import get_logging_dir\n",
    "import torch\n",
    "import utils\n",
    "import models\n",
    "from tqdm.notebook import tqdm\n",
    "\n",
    "from torch.utils.tensorboard import SummaryWriter\n",
    "from torchinfo import summary\n",
    "\n",
    "from utils.training import get_loss_fn, get_optimizer, train_one_epoch\n",
    "\n",
    "from utils.general import get_logging_dir, make_values_scalar\n",
    "import data.adult\n"
   ]
  },
  {
   "cell_type": "code",
   "execution_count": 2,
   "metadata": {},
   "outputs": [],
   "source": [
    "%load_ext autoreload\n",
    "%autoreload 2"
   ]
  },
  {
   "cell_type": "code",
   "execution_count": 3,
   "metadata": {},
   "outputs": [],
   "source": [
    "torch.random.manual_seed(42)\n",
    "\n",
    "BATCH_SIZE = 128\n",
    "DEVICE = torch.device(\"cpu\")"
   ]
  },
  {
   "cell_type": "code",
   "execution_count": null,
   "metadata": {},
   "outputs": [],
   "source": [
    "dataset = data.adult.get_dataset(\"train\")\n",
    "dataloader = torch.utils.data.DataLoader(dataset, batch_size=BATCH_SIZE, shuffle=True)\n",
    "\n",
    "test_dataset =  data.adult.get_dataset(\"test\")\n",
    "test_dataloader = torch.utils.data.DataLoader(test_dataset, batch_size=BATCH_SIZE)"
   ]
  },
  {
   "cell_type": "code",
   "execution_count": 5,
   "metadata": {},
   "outputs": [
    {
     "data": {
      "application/vnd.jupyter.widget-view+json": {
       "model_id": "2900c92604134760b96e57a4076ac524",
       "version_major": 2,
       "version_minor": 0
      },
      "text/plain": [
       "  0%|          | 0/300 [00:00<?, ?it/s]"
      ]
     },
     "metadata": {},
     "output_type": "display_data"
    }
   ],
   "source": [
    "hparams = {\n",
    "    \"optimizer\": \"adam\",\n",
    "    \"learning_rate\": 0.001,\n",
    "    \"loss_fn\": \"bce_with_logits\",\n",
    "    \"batch_norm\": False,\n",
    "    \"layer_norm\": True,\n",
    "    \"dropout_rate\": 0.3,\n",
    "    \"epochs\": 300,\n",
    "}\n",
    "architecture: list[int] = [512, 512, 512, 256, 128]\n",
    "\n",
    "model_config = models.DenseNetwork.Config(\n",
    "    107,\n",
    "    architecture,\n",
    "    1,\n",
    "    torch.nn.ReLU,\n",
    "    use_batch_norm=hparams[\"batch_norm\"],\n",
    "    use_layer_norm=hparams[\"layer_norm\"],\n",
    "    dropout_rate=hparams[\"dropout_rate\"],\n",
    ")\n",
    "model = models.DenseNetwork(model_config)\n",
    "\n",
    "model.to(DEVICE)\n",
    "\n",
    "writer = SummaryWriter(get_logging_dir(\"basicNN\", \"adult\"))\n",
    "writer.add_text(\"Model Summary\", str(summary(model, input_size=(1, 107))))\n",
    "\n",
    "dummy_input = torch.randn(1, 107)  # Example input\n",
    "writer.add_graph(model, dummy_input)\n",
    "\n",
    "optimizer = get_optimizer(\n",
    "    hparams[\"optimizer\"], hparams[\"learning_rate\"], model.parameters()\n",
    ")\n",
    "loss_fn = get_loss_fn(hparams[\"loss_fn\"])\n",
    "\n",
    "\n",
    "for epoch in tqdm(range(hparams[\"epochs\"])):\n",
    "    epoch_loss = train_one_epoch(model, dataloader, optimizer, loss_fn, DEVICE)\n",
    "    writer.add_scalar(\"Loss/train\", epoch_loss, epoch)\n",
    "    y_hats, ys = utils.evaluation.evaluate(\n",
    "        model, test_dataloader, from_logits=True, return_outputs_only=True\n",
    "    )\n",
    "    writer.add_scalar(\n",
    "        \"Loss/test\", loss_fn(y_hats.to(torch.float), ys.to(torch.float)).item(), epoch\n",
    "    )\n",
    "\n",
    "\n",
    "metrics = utils.evaluation.evaluate(model, test_dataloader, from_logits=True)\n",
    "\n",
    "writer.add_hparams(\n",
    "    {**make_values_scalar(dict(model_config)), **hparams}, dict(metrics), run_name=\".\"\n",
    ")\n",
    "writer.flush()\n",
    "writer.close()"
   ]
  }
 ],
 "metadata": {
  "kernelspec": {
   "display_name": ".venv",
   "language": "python",
   "name": "python3"
  },
  "language_info": {
   "codemirror_mode": {
    "name": "ipython",
    "version": 3
   },
   "file_extension": ".py",
   "mimetype": "text/x-python",
   "name": "python",
   "nbconvert_exporter": "python",
   "pygments_lexer": "ipython3",
   "version": "3.10.16"
  }
 },
 "nbformat": 4,
 "nbformat_minor": 2
}
