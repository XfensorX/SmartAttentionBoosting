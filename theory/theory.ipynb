{
 "cells": [
  {
   "cell_type": "code",
   "execution_count": null,
   "metadata": {},
   "outputs": [],
   "source": [
    "import sympy as sp\n",
    "\n",
    "\n",
    "class sigmoid(sp.Function):\n",
    "    @classmethod\n",
    "    def eval(cls, x):\n",
    "        return 1 / (1 + sp.exp(-x))\n",
    "\n",
    "\n",
    "class MSE(sp.Function):\n",
    "    @classmethod\n",
    "    def eval(cls, A, B):\n",
    "        diff_squared = (A - B).applyfunc(lambda x: x**2)\n",
    "        sum_dff = sum(diff_squared[i, j] for i in range(A.rows) for j in range(A.cols))\n",
    "        return (1 / 2) * sp.simplify(sum_dff / A.shape[0] / A.shape[1])\n",
    "\n",
    "\n",
    "class ReLU(sp.Function):\n",
    "    @classmethod\n",
    "    def eval(cls, x):\n",
    "        return sp.Piecewise((0, x < 0), (x, x >= 0))"
   ]
  },
  {
   "cell_type": "code",
   "execution_count": null,
   "metadata": {},
   "outputs": [],
   "source": [
    "MSE(sp.Matrix([1, 4]), sp.Matrix([1, 5]))"
   ]
  },
  {
   "cell_type": "code",
   "execution_count": null,
   "metadata": {},
   "outputs": [],
   "source": [
    "x1 = sp.symbols(\"x1\")\n",
    "x = sp.Matrix([[1], [x1]])\n",
    "display(x)\n",
    "\n",
    "\n",
    "y_true = sp.symbols(\"y_t\")\n",
    "display(y_true)\n",
    "\n",
    "\n",
    "lr = sp.symbols(\"alpha\")\n",
    "display(lr)"
   ]
  },
  {
   "cell_type": "code",
   "execution_count": null,
   "metadata": {},
   "outputs": [],
   "source": [
    "w11, w12, w21, w22 = sp.symbols(\"w11 w12 w21 w22\")\n",
    "W = sp.Matrix([[w11, w12], [w21, w22]])\n",
    "\n",
    "u11, u12, u13 = sp.symbols(\"u11 u12 u13\")\n",
    "u = sp.Matrix([[u11], [u12], [u13]])\n",
    "\n",
    "h1 = ReLU(W.row(0).dot(x))\n",
    "h2 = ReLU(W.row(1).dot(x))\n",
    "h = sp.Matrix([[1], [h1], [h2]])\n",
    "\n",
    "y = u.dot(h)\n",
    "\n",
    "display(W, u, h, y)"
   ]
  },
  {
   "cell_type": "code",
   "execution_count": 35,
   "metadata": {},
   "outputs": [
    {
     "data": {
      "text/latex": [
       "$\\displaystyle \\left[\\begin{matrix}\\begin{cases} 1.0 \\left(u_{11} - y_{t}\\right) & \\text{for}\\: w_{11} + w_{12} x_{1} < 0 \\wedge w_{21} + w_{22} x_{1} < 0 \\\\1.0 \\left(u_{11} + u_{13} \\left(w_{21} + w_{22} x_{1}\\right) - y_{t}\\right) & \\text{for}\\: w_{11} + w_{12} x_{1} < 0 \\\\1.0 \\left(u_{11} + u_{12} \\left(w_{11} + w_{12} x_{1}\\right) - y_{t}\\right) & \\text{for}\\: w_{21} + w_{22} x_{1} < 0 \\\\1.0 \\left(u_{11} + u_{12} \\left(w_{11} + w_{12} x_{1}\\right) + u_{13} \\left(w_{21} + w_{22} x_{1}\\right) - y_{t}\\right) & \\text{otherwise} \\end{cases}\\\\\\begin{cases} 0 & \\text{for}\\: w_{11} + w_{12} x_{1} < 0 \\\\1.0 \\left(w_{11} + w_{12} x_{1}\\right) \\left(u_{11} + u_{12} \\left(w_{11} + w_{12} x_{1}\\right) - y_{t}\\right) & \\text{for}\\: w_{21} + w_{22} x_{1} < 0 \\\\1.0 \\left(w_{11} + w_{12} x_{1}\\right) \\left(u_{11} + u_{12} \\left(w_{11} + w_{12} x_{1}\\right) + u_{13} \\left(w_{21} + w_{22} x_{1}\\right) - y_{t}\\right) & \\text{otherwise} \\end{cases}\\\\\\begin{cases} 0 & \\text{for}\\: w_{11} + w_{12} x_{1} < 0 \\wedge w_{21} + w_{22} x_{1} < 0 \\\\1.0 \\left(w_{21} + w_{22} x_{1}\\right) \\left(u_{11} + u_{13} \\left(w_{21} + w_{22} x_{1}\\right) - y_{t}\\right) & \\text{for}\\: w_{11} + w_{12} x_{1} < 0 \\\\0 & \\text{for}\\: w_{21} + w_{22} x_{1} < 0 \\\\1.0 \\left(w_{21} + w_{22} x_{1}\\right) \\left(u_{11} + u_{12} \\left(w_{11} + w_{12} x_{1}\\right) + u_{13} \\left(w_{21} + w_{22} x_{1}\\right) - y_{t}\\right) & \\text{otherwise} \\end{cases}\\end{matrix}\\right]$"
      ],
      "text/plain": [
       "Matrix([\n",
       "[Piecewise((1.0*(u11 - y_t), (w11 + w12*x1 < 0) & (w21 + w22*x1 < 0)), (1.0*(u11 + u13*(w21 + w22*x1) - y_t), w11 + w12*x1 < 0), (1.0*(u11 + u12*(w11 + w12*x1) - y_t), w21 + w22*x1 < 0), (1.0*(u11 + u12*(w11 + w12*x1) + u13*(w21 + w22*x1) - y_t), True))],\n",
       "[                                                                 Piecewise((0, w11 + w12*x1 < 0), (1.0*(w11 + w12*x1)*(u11 + u12*(w11 + w12*x1) - y_t), w21 + w22*x1 < 0), (1.0*(w11 + w12*x1)*(u11 + u12*(w11 + w12*x1) + u13*(w21 + w22*x1) - y_t), True))],\n",
       "[                   Piecewise((0, (w11 + w12*x1 < 0) & (w21 + w22*x1 < 0)), (1.0*(w21 + w22*x1)*(u11 + u13*(w21 + w22*x1) - y_t), w11 + w12*x1 < 0), (0, w21 + w22*x1 < 0), (1.0*(w21 + w22*x1)*(u11 + u12*(w11 + w12*x1) + u13*(w21 + w22*x1) - y_t), True))]])"
      ]
     },
     "metadata": {},
     "output_type": "display_data"
    },
    {
     "data": {
      "text/latex": [
       "$\\displaystyle \\left[\\begin{matrix}\\begin{cases} 0 & \\text{for}\\: w_{11} + w_{12} x_{1} < 0 \\\\1.0 u_{12} \\left(u_{11} + u_{12} \\left(w_{11} + w_{12} x_{1}\\right) - y_{t}\\right) & \\text{for}\\: w_{21} + w_{22} x_{1} < 0 \\\\1.0 u_{12} \\left(u_{11} + u_{12} \\left(w_{11} + w_{12} x_{1}\\right) + u_{13} \\left(w_{21} + w_{22} x_{1}\\right) - y_{t}\\right) & \\text{otherwise} \\end{cases} & \\begin{cases} 0 & \\text{for}\\: w_{11} + w_{12} x_{1} < 0 \\\\1.0 u_{12} x_{1} \\left(u_{11} + u_{12} \\left(w_{11} + w_{12} x_{1}\\right) - y_{t}\\right) & \\text{for}\\: w_{21} + w_{22} x_{1} < 0 \\\\1.0 u_{12} x_{1} \\left(u_{11} + u_{12} \\left(w_{11} + w_{12} x_{1}\\right) + u_{13} \\left(w_{21} + w_{22} x_{1}\\right) - y_{t}\\right) & \\text{otherwise} \\end{cases}\\\\\\begin{cases} 0 & \\text{for}\\: w_{11} + w_{12} x_{1} < 0 \\wedge w_{21} + w_{22} x_{1} < 0 \\\\1.0 u_{13} \\left(u_{11} + u_{13} \\left(w_{21} + w_{22} x_{1}\\right) - y_{t}\\right) & \\text{for}\\: w_{11} + w_{12} x_{1} < 0 \\\\0 & \\text{for}\\: w_{21} + w_{22} x_{1} < 0 \\\\1.0 u_{13} \\left(u_{11} + u_{12} \\left(w_{11} + w_{12} x_{1}\\right) + u_{13} \\left(w_{21} + w_{22} x_{1}\\right) - y_{t}\\right) & \\text{otherwise} \\end{cases} & \\begin{cases} 0 & \\text{for}\\: w_{11} + w_{12} x_{1} < 0 \\wedge w_{21} + w_{22} x_{1} < 0 \\\\1.0 u_{13} x_{1} \\left(u_{11} + u_{13} \\left(w_{21} + w_{22} x_{1}\\right) - y_{t}\\right) & \\text{for}\\: w_{11} + w_{12} x_{1} < 0 \\\\0 & \\text{for}\\: w_{21} + w_{22} x_{1} < 0 \\\\1.0 u_{13} x_{1} \\left(u_{11} + u_{12} \\left(w_{11} + w_{12} x_{1}\\right) + u_{13} \\left(w_{21} + w_{22} x_{1}\\right) - y_{t}\\right) & \\text{otherwise} \\end{cases}\\end{matrix}\\right]$"
      ],
      "text/plain": [
       "Matrix([\n",
       "[                                              Piecewise((0, w11 + w12*x1 < 0), (1.0*u12*(u11 + u12*(w11 + w12*x1) - y_t), w21 + w22*x1 < 0), (1.0*u12*(u11 + u12*(w11 + w12*x1) + u13*(w21 + w22*x1) - y_t), True)),                                               Piecewise((0, w11 + w12*x1 < 0), (1.0*u12*x1*(u11 + u12*(w11 + w12*x1) - y_t), w21 + w22*x1 < 0), (1.0*u12*x1*(u11 + u12*(w11 + w12*x1) + u13*(w21 + w22*x1) - y_t), True))],\n",
       "[Piecewise((0, (w11 + w12*x1 < 0) & (w21 + w22*x1 < 0)), (1.0*u13*(u11 + u13*(w21 + w22*x1) - y_t), w11 + w12*x1 < 0), (0, w21 + w22*x1 < 0), (1.0*u13*(u11 + u12*(w11 + w12*x1) + u13*(w21 + w22*x1) - y_t), True)), Piecewise((0, (w11 + w12*x1 < 0) & (w21 + w22*x1 < 0)), (1.0*u13*x1*(u11 + u13*(w21 + w22*x1) - y_t), w11 + w12*x1 < 0), (0, w21 + w22*x1 < 0), (1.0*u13*x1*(u11 + u12*(w11 + w12*x1) + u13*(w21 + w22*x1) - y_t), True))]])"
      ]
     },
     "metadata": {},
     "output_type": "display_data"
    },
    {
     "data": {
      "text/latex": [
       "$\\displaystyle \\left[\\begin{matrix}\\begin{cases} w_{11} & \\text{for}\\: w_{11} + w_{12} x_{1} < 0 \\\\- 1.0 \\alpha u_{12} \\left(u_{11} + u_{12} \\left(w_{11} + w_{12} x_{1}\\right) - y_{t}\\right) + w_{11} & \\text{for}\\: w_{21} + w_{22} x_{1} < 0 \\\\- 1.0 \\alpha u_{12} \\left(u_{11} + u_{12} \\left(w_{11} + w_{12} x_{1}\\right) + u_{13} \\left(w_{21} + w_{22} x_{1}\\right) - y_{t}\\right) + w_{11} & \\text{otherwise} \\end{cases} & \\begin{cases} w_{12} & \\text{for}\\: w_{11} + w_{12} x_{1} < 0 \\\\- 1.0 \\alpha u_{12} x_{1} \\left(u_{11} + u_{12} \\left(w_{11} + w_{12} x_{1}\\right) - y_{t}\\right) + w_{12} & \\text{for}\\: w_{21} + w_{22} x_{1} < 0 \\\\- 1.0 \\alpha u_{12} x_{1} \\left(u_{11} + u_{12} \\left(w_{11} + w_{12} x_{1}\\right) + u_{13} \\left(w_{21} + w_{22} x_{1}\\right) - y_{t}\\right) + w_{12} & \\text{otherwise} \\end{cases}\\\\\\begin{cases} w_{21} & \\text{for}\\: w_{11} + w_{12} x_{1} < 0 \\wedge w_{21} + w_{22} x_{1} < 0 \\\\- 1.0 \\alpha u_{13} \\left(u_{11} + u_{13} \\left(w_{21} + w_{22} x_{1}\\right) - y_{t}\\right) + w_{21} & \\text{for}\\: w_{11} + w_{12} x_{1} < 0 \\\\w_{21} & \\text{for}\\: w_{21} + w_{22} x_{1} < 0 \\\\- 1.0 \\alpha u_{13} \\left(u_{11} + u_{12} \\left(w_{11} + w_{12} x_{1}\\right) + u_{13} \\left(w_{21} + w_{22} x_{1}\\right) - y_{t}\\right) + w_{21} & \\text{otherwise} \\end{cases} & \\begin{cases} w_{22} & \\text{for}\\: w_{11} + w_{12} x_{1} < 0 \\wedge w_{21} + w_{22} x_{1} < 0 \\\\- 1.0 \\alpha u_{13} x_{1} \\left(u_{11} + u_{13} \\left(w_{21} + w_{22} x_{1}\\right) - y_{t}\\right) + w_{22} & \\text{for}\\: w_{11} + w_{12} x_{1} < 0 \\\\w_{22} & \\text{for}\\: w_{21} + w_{22} x_{1} < 0 \\\\- 1.0 \\alpha u_{13} x_{1} \\left(u_{11} + u_{12} \\left(w_{11} + w_{12} x_{1}\\right) + u_{13} \\left(w_{21} + w_{22} x_{1}\\right) - y_{t}\\right) + w_{22} & \\text{otherwise} \\end{cases}\\end{matrix}\\right]$"
      ],
      "text/plain": [
       "Matrix([\n",
       "[                                                Piecewise((w11, w11 + w12*x1 < 0), (-1.0*alpha*u12*(u11 + u12*(w11 + w12*x1) - y_t) + w11, w21 + w22*x1 < 0), (-1.0*alpha*u12*(u11 + u12*(w11 + w12*x1) + u13*(w21 + w22*x1) - y_t) + w11, True)),                                                 Piecewise((w12, w11 + w12*x1 < 0), (-1.0*alpha*u12*x1*(u11 + u12*(w11 + w12*x1) - y_t) + w12, w21 + w22*x1 < 0), (-1.0*alpha*u12*x1*(u11 + u12*(w11 + w12*x1) + u13*(w21 + w22*x1) - y_t) + w12, True))],\n",
       "[Piecewise((w21, (w11 + w12*x1 < 0) & (w21 + w22*x1 < 0)), (-1.0*alpha*u13*(u11 + u13*(w21 + w22*x1) - y_t) + w21, w11 + w12*x1 < 0), (w21, w21 + w22*x1 < 0), (-1.0*alpha*u13*(u11 + u12*(w11 + w12*x1) + u13*(w21 + w22*x1) - y_t) + w21, True)), Piecewise((w22, (w11 + w12*x1 < 0) & (w21 + w22*x1 < 0)), (-1.0*alpha*u13*x1*(u11 + u13*(w21 + w22*x1) - y_t) + w22, w11 + w12*x1 < 0), (w22, w21 + w22*x1 < 0), (-1.0*alpha*u13*x1*(u11 + u12*(w11 + w12*x1) + u13*(w21 + w22*x1) - y_t) + w22, True))]])"
      ]
     },
     "metadata": {},
     "output_type": "display_data"
    },
    {
     "data": {
      "text/latex": [
       "$\\displaystyle \\left[\\begin{matrix}\\begin{cases} - 1.0 \\alpha \\left(u_{11} - y_{t}\\right) + u_{11} & \\text{for}\\: w_{11} + w_{12} x_{1} < 0 \\wedge w_{21} + w_{22} x_{1} < 0 \\\\- 1.0 \\alpha \\left(u_{11} + u_{13} \\left(w_{21} + w_{22} x_{1}\\right) - y_{t}\\right) + u_{11} & \\text{for}\\: w_{11} + w_{12} x_{1} < 0 \\\\- 1.0 \\alpha \\left(u_{11} + u_{12} \\left(w_{11} + w_{12} x_{1}\\right) - y_{t}\\right) + u_{11} & \\text{for}\\: w_{21} + w_{22} x_{1} < 0 \\\\- 1.0 \\alpha \\left(u_{11} + u_{12} \\left(w_{11} + w_{12} x_{1}\\right) + u_{13} \\left(w_{21} + w_{22} x_{1}\\right) - y_{t}\\right) + u_{11} & \\text{otherwise} \\end{cases}\\\\\\begin{cases} u_{12} & \\text{for}\\: w_{11} + w_{12} x_{1} < 0 \\\\- 1.0 \\alpha \\left(w_{11} + w_{12} x_{1}\\right) \\left(u_{11} + u_{12} \\left(w_{11} + w_{12} x_{1}\\right) - y_{t}\\right) + u_{12} & \\text{for}\\: w_{21} + w_{22} x_{1} < 0 \\\\- 1.0 \\alpha \\left(w_{11} + w_{12} x_{1}\\right) \\left(u_{11} + u_{12} \\left(w_{11} + w_{12} x_{1}\\right) + u_{13} \\left(w_{21} + w_{22} x_{1}\\right) - y_{t}\\right) + u_{12} & \\text{otherwise} \\end{cases}\\\\\\begin{cases} u_{13} & \\text{for}\\: w_{11} + w_{12} x_{1} < 0 \\wedge w_{21} + w_{22} x_{1} < 0 \\\\- 1.0 \\alpha \\left(w_{21} + w_{22} x_{1}\\right) \\left(u_{11} + u_{13} \\left(w_{21} + w_{22} x_{1}\\right) - y_{t}\\right) + u_{13} & \\text{for}\\: w_{11} + w_{12} x_{1} < 0 \\\\u_{13} & \\text{for}\\: w_{21} + w_{22} x_{1} < 0 \\\\- 1.0 \\alpha \\left(w_{21} + w_{22} x_{1}\\right) \\left(u_{11} + u_{12} \\left(w_{11} + w_{12} x_{1}\\right) + u_{13} \\left(w_{21} + w_{22} x_{1}\\right) - y_{t}\\right) + u_{13} & \\text{otherwise} \\end{cases}\\end{matrix}\\right]$"
      ],
      "text/plain": [
       "Matrix([\n",
       "[Piecewise((-1.0*alpha*(u11 - y_t) + u11, (w11 + w12*x1 < 0) & (w21 + w22*x1 < 0)), (-1.0*alpha*(u11 + u13*(w21 + w22*x1) - y_t) + u11, w11 + w12*x1 < 0), (-1.0*alpha*(u11 + u12*(w11 + w12*x1) - y_t) + u11, w21 + w22*x1 < 0), (-1.0*alpha*(u11 + u12*(w11 + w12*x1) + u13*(w21 + w22*x1) - y_t) + u11, True))],\n",
       "[                                                                                         Piecewise((u12, w11 + w12*x1 < 0), (-1.0*alpha*(w11 + w12*x1)*(u11 + u12*(w11 + w12*x1) - y_t) + u12, w21 + w22*x1 < 0), (-1.0*alpha*(w11 + w12*x1)*(u11 + u12*(w11 + w12*x1) + u13*(w21 + w22*x1) - y_t) + u12, True))],\n",
       "[                                         Piecewise((u13, (w11 + w12*x1 < 0) & (w21 + w22*x1 < 0)), (-1.0*alpha*(w21 + w22*x1)*(u11 + u13*(w21 + w22*x1) - y_t) + u13, w11 + w12*x1 < 0), (u13, w21 + w22*x1 < 0), (-1.0*alpha*(w21 + w22*x1)*(u11 + u12*(w11 + w12*x1) + u13*(w21 + w22*x1) - y_t) + u13, True))]])"
      ]
     },
     "metadata": {},
     "output_type": "display_data"
    },
    {
     "name": "stdout",
     "output_type": "stream",
     "text": [
      "Substitutions:\n",
      "x0 = w11 + w12*x1\n",
      "x2 = x0 < 0\n",
      "x3 = w21 + w22*x1\n",
      "x4 = x3 < 0\n",
      "x5 = x2 & (x2 | x4)\n",
      "x6 = u11 - y_t\n",
      "x7 = u12*x0 + x6\n",
      "x8 = 2*u12\n",
      "x9 = x7*x8\n",
      "x10 = u13*x3\n",
      "x11 = x10 + x7\n",
      "x12 = x11*x8\n",
      "x13 = 0.5*alpha\n",
      "x14 = x2 & x4\n",
      "x15 = 2*u13\n",
      "x16 = x15*(x10 + x6)\n",
      "x17 = x11*x15\n",
      "\n",
      "Simplified Expression:\n"
     ]
    },
    {
     "data": {
      "text/latex": [
       "$\\displaystyle \\left[\\begin{matrix}w_{11} - x_{13} \\left(\\begin{cases} 0 & \\text{for}\\: x_{5} \\\\x_{9} & \\text{for}\\: x_{4} \\\\x_{12} & \\text{otherwise} \\end{cases}\\right) & w_{12} - x_{13} \\left(\\begin{cases} 0 & \\text{for}\\: x_{5} \\\\x_{1} x_{9} & \\text{for}\\: x_{4} \\\\x_{1} x_{12} & \\text{otherwise} \\end{cases}\\right)\\\\w_{21} - x_{13} \\left(\\begin{cases} 0 & \\text{for}\\: x_{14} \\\\x_{16} & \\text{for}\\: x_{2} \\\\0 & \\text{for}\\: x_{4} \\\\x_{17} & \\text{otherwise} \\end{cases}\\right) & w_{22} - x_{13} \\left(\\begin{cases} 0 & \\text{for}\\: x_{14} \\\\x_{1} x_{16} & \\text{for}\\: x_{2} \\\\0 & \\text{for}\\: x_{4} \\\\x_{1} x_{17} & \\text{otherwise} \\end{cases}\\right)\\end{matrix}\\right]$"
      ],
      "text/plain": [
       "Matrix([\n",
       "[           w11 - x13*Piecewise((0, x5), (x9, x4), (x12, True)),            w12 - x13*Piecewise((0, x5), (x1*x9, x4), (x1*x12, True))],\n",
       "[w21 - x13*Piecewise((0, x14), (x16, x2), (0, x4), (x17, True)), w22 - x13*Piecewise((0, x14), (x1*x16, x2), (0, x4), (x1*x17, True))]])"
      ]
     },
     "metadata": {},
     "output_type": "display_data"
    }
   ],
   "source": [
    "y_calculated = sp.symbols(\"y_c\")\n",
    "\n",
    "loss = MSE(sp.Matrix([[y_true]]), sp.Matrix([[y]]))\n",
    "\n",
    "display(sp.simplify(loss.diff(u)))\n",
    "\n",
    "display(sp.simplify(loss.diff(W)))\n",
    "W_new = W - lr * loss.diff(W)\n",
    "display(sp.simplify(W_new.subs(w11 + w22 * x1,y_calculated ).doit()))\n",
    "\n",
    "u_new = u - lr * loss.diff(u)\n",
    "display(sp.simplify(u_new))\n",
    "\n",
    "# Automatically detect common subexpressions\n",
    "substitutions, simplified_expr = sp.cse(W_new)\n",
    "\n",
    "# Print results\n",
    "print(\"Substitutions:\")\n",
    "for var, subexpr in substitutions:\n",
    "    print(f\"{var} = {subexpr}\")\n",
    "\n",
    "print(\"\\nSimplified Expression:\")\n",
    "display(simplified_expr[0])"
   ]
  },
  {
   "cell_type": "code",
   "execution_count": null,
   "metadata": {},
   "outputs": [],
   "source": []
  },
  {
   "cell_type": "code",
   "execution_count": null,
   "metadata": {},
   "outputs": [],
   "source": []
  },
  {
   "cell_type": "code",
   "execution_count": null,
   "metadata": {},
   "outputs": [],
   "source": [
    "w11_, w12_, w21_, w22_ = sp.symbols(\"w11' w12' w21' w22'\")\n",
    "W_ = sp.Matrix([[w11_, w12_], [w21_, w22_]])\n",
    "\n",
    "u11_, u12_, u13_ = sp.symbols(\"u11' u12' u13'\")\n",
    "u_ = sp.Matrix([[u11_], [u12_], [u13_]])\n",
    "\n",
    "h1_ = ReLU(W_.row(0).dot(x))\n",
    "h2_ = ReLU(W_.row(1).dot(x))\n",
    "h_ = sp.Matrix([[1], [h1_], [h2_]])\n",
    "\n",
    "y_ = u_.dot(h_)\n",
    "\n",
    "w11_ = 5\n",
    "\n",
    "display(W_, u_, h_, y_)"
   ]
  },
  {
   "cell_type": "code",
   "execution_count": null,
   "metadata": {},
   "outputs": [],
   "source": [
    "loss_ = MSE(y_true, y_)\n",
    "display(loss_)\n",
    "\n",
    "W_new_ = W_ - lr * loss_.diff(W_)\n",
    "display(sp.simplify(W_new_))\n",
    "\n",
    "u_new_ = u_ - lr * loss_.diff(u_)\n",
    "display(sp.simplify(u_new_))"
   ]
  },
  {
   "cell_type": "code",
   "execution_count": null,
   "metadata": {},
   "outputs": [],
   "source": []
  },
  {
   "cell_type": "code",
   "execution_count": null,
   "metadata": {},
   "outputs": [],
   "source": [
    "constraints = [\n",
    "    W_new_.row(1) - W_new.row(0), # 2\n",
    "    W_new_.row(0) - W_new.row(1), # 2\n",
    "    W_.row(1) - W.row(0), # 2\n",
    "    W_.row(0) - W.row(1), # 2\n",
    "\n",
    "    lr - 1, # 1\n",
    "    x1 - 1, # 1\n",
    "\n",
    "    u_.row(0) - u.row(0), # 1\n",
    "    u_.row(1) - u.row(2), # 1\n",
    "    u_.row(2) - u.row(1), # 1\n",
    "\n",
    "    #W - sp.Matrix([[1, 1.5], [1.5, 1]]), # 4\n",
    "    #u - sp.Matrix([[1], [1.5], [2]]), # 3\n",
    "]\n",
    "\n",
    "solution = sp.solve(constraints, (u, u_, W, W_, lr, x, y_true)) # 17\n",
    "\n",
    "display(solution)"
   ]
  },
  {
   "cell_type": "code",
   "execution_count": null,
   "metadata": {},
   "outputs": [],
   "source": [
    "constraints = [\n",
    "    lr - 1, # 1\n",
    "    x1 - 1, # 1\n",
    "]\n",
    "\n",
    "solution = sp.solve(constraints, (u, W, lr, x, y_true)) # 17\n",
    "\n",
    "display(solution)"
   ]
  },
  {
   "cell_type": "code",
   "execution_count": null,
   "metadata": {},
   "outputs": [],
   "source": [
    "values = {\n",
    "    w11: 0.5, w12: -0.3,\n",
    "    w21: 0.8, w22: 0.2,\n",
    "    u11: 0.1, u12: -0.4, u13: 0.6,\n",
    "    x1: 1.0,\n",
    "}\n",
    "\n",
    "# Evaluate expressions with given values\n",
    "h_eval = h.subs(values)\n",
    "y_eval = y.subs(values)\n",
    "\n",
    "print(\"\\nEvaluated h:\")\n",
    "sp.pprint(h_eval)\n",
    "\n",
    "print(\"\\nEvaluated y:\")\n",
    "sp.pprint(y_eval)"
   ]
  },
  {
   "cell_type": "code",
   "execution_count": null,
   "metadata": {},
   "outputs": [],
   "source": []
  },
  {
   "cell_type": "code",
   "execution_count": null,
   "metadata": {},
   "outputs": [],
   "source": []
  },
  {
   "cell_type": "code",
   "execution_count": null,
   "metadata": {},
   "outputs": [],
   "source": []
  },
  {
   "cell_type": "code",
   "execution_count": null,
   "metadata": {},
   "outputs": [],
   "source": []
  }
 ],
 "metadata": {
  "kernelspec": {
   "display_name": ".venv",
   "language": "python",
   "name": "python3"
  },
  "language_info": {
   "codemirror_mode": {
    "name": "ipython",
    "version": 3
   },
   "file_extension": ".py",
   "mimetype": "text/x-python",
   "name": "python",
   "nbconvert_exporter": "python",
   "pygments_lexer": "ipython3",
   "version": "3.10.16"
  }
 },
 "nbformat": 4,
 "nbformat_minor": 2
}
