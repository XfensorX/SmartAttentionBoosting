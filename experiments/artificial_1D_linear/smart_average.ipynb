{
 "cells": [
  {
   "cell_type": "code",
   "execution_count": null,
   "metadata": {},
   "outputs": [],
   "source": [
    "import torch\n",
    "from torch.utils.tensorboard import SummaryWriter\n",
    "\n",
    "from data import artificial_1D_linear as data\n",
    "from utils.general import get_logging_dir\n",
    "from experiments.artificial_1D_linear.documentation import (\n",
    "    evaluate,\n",
    "    plot_data_split,\n",
    "    plot_predictions,\n",
    ")\n",
    "from models import SmartAverageLayer\n",
    "\n",
    "from experiments.artificial_1D_linear.smart_fed_avg_util import (\n",
    "    train_client,\n",
    "    register_client_test_losses,\n",
    ")"
   ]
  },
  {
   "cell_type": "code",
   "execution_count": null,
   "metadata": {},
   "outputs": [],
   "source": [
    "%load_ext autoreload\n",
    "%autoreload 2"
   ]
  },
  {
   "cell_type": "code",
   "execution_count": null,
   "metadata": {},
   "outputs": [],
   "source": [
    "NUM_CLIENTS = 2\n",
    "\n",
    "COMMUNICATION_ROUNDS = 10\n",
    "CLIENT_EPOCHS = 100\n",
    "\n",
    "SPLIT_TYPE = \"random\""
   ]
  },
  {
   "cell_type": "code",
   "execution_count": null,
   "metadata": {},
   "outputs": [],
   "source": [
    "CLIENT_IDs = range(NUM_CLIENTS)\n",
    "\n",
    "BATCH_SIZE = 64\n",
    "\n",
    "INPUT_FEATURES = 1\n",
    "OUTPUT_FEATURES = 1\n",
    "ARCHITECTURE = [11, 12, 11, 12]\n",
    "\n",
    "LOSS_FN = torch.nn.MSELoss()"
   ]
  },
  {
   "cell_type": "code",
   "execution_count": null,
   "metadata": {},
   "outputs": [],
   "source": [
    "def register_hyperparameters(writer, last_loss):\n",
    "    writer.add_hparams(\n",
    "        {\n",
    "            \"client_epochs\": CLIENT_EPOCHS,\n",
    "            \"num_clients\": NUM_CLIENTS,\n",
    "            \"communication_rounds\": COMMUNICATION_ROUNDS,\n",
    "            \"split_type\": SPLIT_TYPE,\n",
    "            \"architecture\": str(ARCHITECTURE),\n",
    "        },\n",
    "        {\n",
    "            \"MSE Test\": last_loss,\n",
    "        },\n",
    "        run_name=\".\",\n",
    "    )"
   ]
  },
  {
   "cell_type": "code",
   "execution_count": null,
   "metadata": {},
   "outputs": [],
   "source": [
    "model_name = f\"MyFed_{NUM_CLIENTS}clients_{SPLIT_TYPE}-split\"\n",
    "writer = SummaryWriter(get_logging_dir(model_name, \"artificial_1D_linear\"))\n",
    "\n",
    "clients = [\n",
    "    SmartAverageLayer.initialize_from_scratch(INPUT_FEATURES, OUTPUT_FEATURES, NUM_CLIENTS, client_id, ARCHITECTURE)\n",
    "    for client_id in CLIENT_IDs\n",
    "]\n",
    "\n",
    "client_train_dataloaders = data.get_client_train_dataloaders(\n",
    "    NUM_CLIENTS, SPLIT_TYPE, BATCH_SIZE, shuffle=True\n",
    ")\n",
    "\n",
    "plot_data_split(client_train_dataloaders, writer)"
   ]
  },
  {
   "cell_type": "code",
   "execution_count": null,
   "metadata": {},
   "outputs": [],
   "source": [
    "print(clients[0])"
   ]
  },
  {
   "cell_type": "code",
   "execution_count": null,
   "metadata": {},
   "outputs": [],
   "source": [
    "for cr in range(COMMUNICATION_ROUNDS):\n",
    "    # train each client individually\n",
    "    for client_no, client in zip(CLIENT_IDs, clients):\n",
    "        train_client(\n",
    "            client_no=client_no,\n",
    "            client_model=client,\n",
    "            data_loader=client_train_dataloaders[client_no],\n",
    "            loss_fn=LOSS_FN,\n",
    "            no_epochs=CLIENT_EPOCHS,\n",
    "            communication_round=cr,\n",
    "            writer=writer,\n",
    "        )\n",
    "\n",
    "    register_client_test_losses(\n",
    "        clients=clients, client_ids=CLIENT_IDs, writer=writer, communication_round=cr\n",
    "    )\n",
    "\n",
    "    global_model = SmartAverageLayer.get_global_model(\n",
    "        clients,\n",
    "        similarity_threshold_in_degree=15,\n",
    "    )\n",
    "\n",
    "    writer.add_scalar(\"test_loss\", evaluate(global_model), cr * CLIENT_EPOCHS)\n",
    "\n",
    "    #### ----- Unimportant ----- NOTE: remove####################################################################################\n",
    "    from IPython.display import clear_output\n",
    "\n",
    "    clear_output(wait=True)\n",
    "    print(f\"Communication Round {cr}/{COMMUNICATION_ROUNDS}\")\n",
    "    print(\"\\r global model: \", global_model, end=\"\")\n",
    "    # print(\"\\n\\n GLOBAL MODEL\\n\", list(global_model.named_parameters()))\n",
    "\n",
    "    #### //// ----- Unimportant ------------------------------------------------------------------------------------------------\n",
    "\n",
    "    clients = [\n",
    "        global_model.get_client_model(\n",
    "            client_id, add_noise=cr < COMMUNICATION_ROUNDS - 1\n",
    "        )\n",
    "        for client_id in CLIENT_IDs\n",
    "    ]\n",
    "\n",
    "    ###!!!!!!!!!!!!! NOTE:remove################################################################################################\n",
    "    plot_predictions(global_model, model_name, writer, epoch=cr)\n",
    "    # --------------------------------------------------------------------------------------------------------------------------\n",
    "\n",
    "plot_predictions(global_model, model_name, writer)\n",
    "register_hyperparameters(writer, last_loss=evaluate(global_model))\n",
    "writer.close()"
   ]
  },
  {
   "cell_type": "code",
   "execution_count": null,
   "metadata": {},
   "outputs": [],
   "source": [
    "print(global_model.prediction_network.full_representation())\n",
    "print(global_model.prediction_mask)"
   ]
  },
  {
   "cell_type": "code",
   "execution_count": null,
   "metadata": {},
   "outputs": [],
   "source": [
    "for client in clients:\n",
    "    print(client.prediction_network.full_representation())\n",
    "    print(client.prediction_mask)"
   ]
  }
 ],
 "metadata": {
  "kernelspec": {
   "display_name": ".venv",
   "language": "python",
   "name": "python3"
  },
  "language_info": {
   "codemirror_mode": {
    "name": "ipython",
    "version": 3
   },
   "file_extension": ".py",
   "mimetype": "text/x-python",
   "name": "python",
   "nbconvert_exporter": "python",
   "pygments_lexer": "ipython3",
   "version": "3.10.16"
  }
 },
 "nbformat": 4,
 "nbformat_minor": 2
}
