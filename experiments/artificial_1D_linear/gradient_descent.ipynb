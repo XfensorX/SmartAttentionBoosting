{
 "cells": [
  {
   "cell_type": "markdown",
   "metadata": {},
   "source": [
    "# 1. Standard Batch Gradient Descent"
   ]
  },
  {
   "cell_type": "code",
   "execution_count": null,
   "metadata": {},
   "outputs": [],
   "source": [
    "import torch\n",
    "from torch.utils.tensorboard import SummaryWriter\n",
    "\n",
    "from utils.general import get_logging_dir\n",
    "from data import artificial_1D_linear as data\n",
    "from experiments.artificial_1D_linear.documentation import (\n",
    "    evaluate,\n",
    "    plot_predictions,\n",
    ")\n",
    "from models import DenseNetwork"
   ]
  },
  {
   "cell_type": "markdown",
   "metadata": {},
   "source": [
    "### Hyperparameters"
   ]
  },
  {
   "cell_type": "code",
   "execution_count": null,
   "metadata": {},
   "outputs": [],
   "source": [
    "BATCH_SIZE = 64\n",
    "EPOCHS = 1000\n",
    "\n",
    "INPUT_FEATURES = 1\n",
    "OUTPUT_FEATURES = 1\n",
    "ARCHITECTURE = [12, 12, 12, 12]\n",
    "\n",
    "LOSS_FN = torch.nn.MSELoss()\n",
    "\n",
    "train_dataloader = data.get_dataloader(\"train\", BATCH_SIZE, shuffle=True)"
   ]
  },
  {
   "cell_type": "markdown",
   "metadata": {},
   "source": [
    "### Model Definition"
   ]
  },
  {
   "cell_type": "code",
   "execution_count": null,
   "metadata": {},
   "outputs": [],
   "source": [
    "dense_network = DenseNetwork(\n",
    "    DenseNetwork.Config(INPUT_FEATURES, ARCHITECTURE, OUTPUT_FEATURES)\n",
    ")\n",
    "model_name = \"standard_bgd\"\n",
    "optimizer = torch.optim.Adam(dense_network.parameters(), lr=0.001)\n",
    "\n",
    "\n",
    "writer = SummaryWriter(get_logging_dir(model_name, \"artificial_1D_linear\"))"
   ]
  },
  {
   "cell_type": "markdown",
   "metadata": {},
   "source": [
    "### Model Training"
   ]
  },
  {
   "cell_type": "code",
   "execution_count": null,
   "metadata": {},
   "outputs": [],
   "source": [
    "for e in range(EPOCHS):\n",
    "    dense_network.train()\n",
    "    losses = []\n",
    "    for x, y in train_dataloader:\n",
    "        optimizer.zero_grad()\n",
    "        y_hat = dense_network(x)\n",
    "        loss = LOSS_FN(y_hat, y)\n",
    "        loss.backward()\n",
    "        optimizer.step()\n",
    "        losses.append(loss.item())\n",
    "    writer.add_scalar(\"loss\", sum(losses) / len(losses), e)\n",
    "\n",
    "    writer.add_scalar(\"test_loss\", evaluate(dense_network), e)\n",
    "\n",
    "\n",
    "plot_predictions(dense_network, model_name, writer)\n",
    "\n",
    "writer.add_hparams(\n",
    "    {\"epochs\": EPOCHS, \"architecture\": str(ARCHITECTURE)},\n",
    "    {\n",
    "        \"MSE Test\": evaluate(dense_network),\n",
    "    },\n",
    "    run_name=\".\",\n",
    ")\n",
    "\n",
    "writer.close()"
   ]
  }
 ],
 "metadata": {
  "kernelspec": {
   "display_name": ".venv",
   "language": "python",
   "name": "python3"
  },
  "language_info": {
   "codemirror_mode": {
    "name": "ipython",
    "version": 3
   },
   "file_extension": ".py",
   "mimetype": "text/x-python",
   "name": "python",
   "nbconvert_exporter": "python",
   "pygments_lexer": "ipython3",
   "version": "3.10.16"
  }
 },
 "nbformat": 4,
 "nbformat_minor": 2
}
