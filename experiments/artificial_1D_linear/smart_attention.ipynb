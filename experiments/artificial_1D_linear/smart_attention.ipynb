{
 "cells": [
  {
   "cell_type": "code",
   "execution_count": null,
   "metadata": {},
   "outputs": [],
   "source": [
    "import torch\n",
    "from torch.utils.tensorboard import SummaryWriter\n",
    "\n",
    "from utils.general import get_logging_dir\n",
    "from data import artificial_1D_linear as data\n",
    "from experiments.artificial_1D_linear.documentation import (\n",
    "    evaluate,\n",
    "    plot_data_split,\n",
    "    plot_predictions,\n",
    ")\n",
    "from models import SmartAttentionLayer\n",
    "\n",
    "from experiments.artificial_1D_linear.smart_fed_avg_util import (\n",
    "    train_client,\n",
    "    register_client_test_losses,\n",
    ")\n",
    "\n",
    "\n",
    "torch.manual_seed(42)"
   ]
  },
  {
   "cell_type": "code",
   "execution_count": null,
   "metadata": {},
   "outputs": [],
   "source": [
    "%load_ext autoreload\n",
    "%autoreload 2"
   ]
  },
  {
   "cell_type": "code",
   "execution_count": null,
   "metadata": {},
   "outputs": [],
   "source": [
    "DEVICE: torch.device = torch.device(\"cpu\")\n",
    "NUM_CLIENTS = 10\n",
    "\n",
    "COMMUNICATION_ROUNDS = 20\n",
    "CLIENT_EPOCHS = 150\n",
    "\n",
    "SPLIT_TYPE = \"interval\""
   ]
  },
  {
   "cell_type": "code",
   "execution_count": null,
   "metadata": {},
   "outputs": [],
   "source": [
    "CLIENT_IDs = range(NUM_CLIENTS)\n",
    "\n",
    "BATCH_SIZE = 64\n",
    "\n",
    "INPUT_FEATURES = 1\n",
    "OUTPUT_FEATURES = 1\n",
    "PRED_ARCHITECTURE = [5, 5, 5, 5]\n",
    "INPUT_IMPRTNC_ARCHITECTURE = [5, 5]\n",
    "CLIENT_IMPRTNC_ARCHITECTURE = [5, 5]\n",
    "SIMILARITY_THRESHOLD = 30\n",
    "\n",
    "LOSS_FN = torch.nn.MSELoss()"
   ]
  },
  {
   "cell_type": "code",
   "execution_count": null,
   "metadata": {},
   "outputs": [],
   "source": [
    "def register_hyperparameters(writer, last_loss):\n",
    "    writer.add_hparams(\n",
    "        {\n",
    "            \"client_epochs\": CLIENT_EPOCHS,\n",
    "            \"num_clients\": NUM_CLIENTS,\n",
    "            \"communication_rounds\": COMMUNICATION_ROUNDS,\n",
    "            \"split_type\": SPLIT_TYPE,\n",
    "            \"pred_architecture\": str(PRED_ARCHITECTURE),\n",
    "            \"input_imprtnc_architecture\": str(INPUT_IMPRTNC_ARCHITECTURE),\n",
    "            \"client_imprtnc_architecture\": str(CLIENT_IMPRTNC_ARCHITECTURE),\n",
    "            \"similarity_threshold\": SIMILARITY_THRESHOLD,\n",
    "        },\n",
    "        {\n",
    "            \"MSE Test\": last_loss,\n",
    "        },\n",
    "        run_name=\".\",\n",
    "    )"
   ]
  },
  {
   "cell_type": "code",
   "execution_count": null,
   "metadata": {},
   "outputs": [],
   "source": [
    "model_name = f\"SmartAttentionLayer_{NUM_CLIENTS}clients_{SPLIT_TYPE}-split\"\n",
    "writer = SummaryWriter(get_logging_dir(model_name, \"artificial_1D_linear\"))\n",
    "\n",
    "clients = [\n",
    "    SmartAttentionLayer.initialize_from_scratch(\n",
    "        INPUT_FEATURES,\n",
    "        OUTPUT_FEATURES,\n",
    "        NUM_CLIENTS,\n",
    "        client_id,\n",
    "        PRED_ARCHITECTURE,\n",
    "        INPUT_IMPRTNC_ARCHITECTURE,\n",
    "        CLIENT_IMPRTNC_ARCHITECTURE,\n",
    "        device=DEVICE,\n",
    "    )\n",
    "    for client_id in CLIENT_IDs\n",
    "]\n",
    "\n",
    "client_train_dataloaders = data.get_client_train_dataloaders(\n",
    "    NUM_CLIENTS, SPLIT_TYPE, BATCH_SIZE, shuffle=True\n",
    ")\n",
    "\n",
    "plot_data_split(client_train_dataloaders, writer)"
   ]
  },
  {
   "cell_type": "code",
   "execution_count": null,
   "metadata": {},
   "outputs": [],
   "source": [
    "print(clients[0])"
   ]
  },
  {
   "cell_type": "code",
   "execution_count": null,
   "metadata": {},
   "outputs": [],
   "source": [
    "def is_cooling_off_epoch(cr: int):\n",
    "    return cr > COMMUNICATION_ROUNDS // 2\n",
    "\n",
    "\n",
    "for cr in range(COMMUNICATION_ROUNDS):\n",
    "    # train each client individually\n",
    "    for client_no, client in zip(CLIENT_IDs, clients):\n",
    "        train_client(\n",
    "            client_no=client_no,\n",
    "            client_model=client,\n",
    "            data_loader=client_train_dataloaders[client_no],\n",
    "            loss_fn=LOSS_FN,\n",
    "            no_epochs=CLIENT_EPOCHS,\n",
    "            communication_round=cr,\n",
    "            writer=writer,\n",
    "            device=DEVICE,\n",
    "        )\n",
    "\n",
    "    register_client_test_losses(\n",
    "        clients=clients,\n",
    "        client_ids=CLIENT_IDs,\n",
    "        writer=writer,\n",
    "        communication_round=cr,\n",
    "        device=DEVICE,\n",
    "    )\n",
    "\n",
    "    global_model = SmartAttentionLayer.get_global_model(\n",
    "        clients,\n",
    "        similarity_threshold_in_degree=SIMILARITY_THRESHOLD if not is_cooling_off_epoch(cr) else 181,\n",
    "        method = \"combine\" if not is_cooling_off_epoch(cr) else \"average\"\n",
    "    )\n",
    "    global_model.to(DEVICE)\n",
    "\n",
    "    writer.add_scalar(\"test_loss\", evaluate(global_model, device=DEVICE), cr * CLIENT_EPOCHS)\n",
    "\n",
    "    clients = [\n",
    "        global_model.get_client_model(\n",
    "            client_id, add_noise=(not is_cooling_off_epoch(cr))\n",
    "        )\n",
    "        for client_id in CLIENT_IDs\n",
    "    ]\n",
    "\n",
    "    #plot_predictions(global_model, model_name, writer, epoch=cr, device=DEVICE)\n",
    "\n",
    "#plot_predictions(global_model, model_name, writer, device=DEVICE)\n",
    "register_hyperparameters(writer, last_loss=evaluate(global_model))\n",
    "writer.flush()\n",
    "writer.close()"
   ]
  },
  {
   "cell_type": "code",
   "execution_count": null,
   "metadata": {},
   "outputs": [],
   "source": [
    "print(global_model)"
   ]
  },
  {
   "cell_type": "code",
   "execution_count": null,
   "metadata": {},
   "outputs": [],
   "source": [
    "print(global_model.query_network.full_representation())"
   ]
  },
  {
   "cell_type": "code",
   "execution_count": null,
   "metadata": {},
   "outputs": [],
   "source": [
    "for client in clients:\n",
    "    print(client.prediction_network.full_representation())\n",
    "    print(client.prediction_mask)"
   ]
  }
 ],
 "metadata": {
  "kernelspec": {
   "display_name": ".venv",
   "language": "python",
   "name": "python3"
  },
  "language_info": {
   "codemirror_mode": {
    "name": "ipython",
    "version": 3
   },
   "file_extension": ".py",
   "mimetype": "text/x-python",
   "name": "python",
   "nbconvert_exporter": "python",
   "pygments_lexer": "ipython3",
   "version": "3.10.16"
  }
 },
 "nbformat": 4,
 "nbformat_minor": 2
}
